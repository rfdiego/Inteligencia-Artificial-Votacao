{
  "nbformat": 4,
  "nbformat_minor": 0,
  "metadata": {
    "colab": {
      "name": "PresidenteEUANaiveBayes.ipynb",
      "provenance": []
    },
    "kernelspec": {
      "display_name": "Python 3",
      "name": "python3"
    }
  },
  "cells": [
    {
      "cell_type": "code",
      "metadata": {
        "colab": {
          "background_save": true
        },
        "id": "rw1zI3K5S5he"
      },
      "source": [
        "#Instalando as dependências\n",
        "import pandas as pd\n",
        "import numpy as np\n",
        "import matplotlib.pyplot as plt\n",
        "import seaborn as sns\n",
        "%matplotlib inline\n",
        "sns.set()\n",
        "from sklearn.datasets import load_breast_cancer\n",
        "from sklearn.metrics import confusion_matrix\n",
        "from sklearn.neighbors import KNeighborsClassifier\n",
        "from sklearn.model_selection import train_test_split\n",
        "from sklearn.preprocessing import Normalizer"
      ],
      "execution_count": null,
      "outputs": []
    },
    {
      "cell_type": "code",
      "metadata": {
        "colab": {
          "background_save": true
        },
        "id": "oUIiDCTpeiqA",
        "outputId": "02749c72-7f01-4dca-899a-01e80c5fbb80"
      },
      "source": [
        "# Carregamos o banco de dados \n",
        "eua = pd.read_csv('https://raw.githubusercontent.com/rfdiego/Inteligencia-Artificial-Votacao/main/president_county_candidate.csv', sep=',')\n",
        "datasetoriginal = eua #copiamos o dataset para usarmos de referencia nas features e classes\n",
        "eua"
      ],
      "execution_count": null,
      "outputs": [
        {
          "output_type": "execute_result",
          "data": {
            "text/html": [
              "<div>\n",
              "<style scoped>\n",
              "    .dataframe tbody tr th:only-of-type {\n",
              "        vertical-align: middle;\n",
              "    }\n",
              "\n",
              "    .dataframe tbody tr th {\n",
              "        vertical-align: top;\n",
              "    }\n",
              "\n",
              "    .dataframe thead th {\n",
              "        text-align: right;\n",
              "    }\n",
              "</style>\n",
              "<table border=\"1\" class=\"dataframe\">\n",
              "  <thead>\n",
              "    <tr style=\"text-align: right;\">\n",
              "      <th></th>\n",
              "      <th>state</th>\n",
              "      <th>county</th>\n",
              "      <th>candidate</th>\n",
              "      <th>party</th>\n",
              "      <th>votes</th>\n",
              "    </tr>\n",
              "  </thead>\n",
              "  <tbody>\n",
              "    <tr>\n",
              "      <th>0</th>\n",
              "      <td>Delaware</td>\n",
              "      <td>Kent County</td>\n",
              "      <td>Joe Biden</td>\n",
              "      <td>DEM</td>\n",
              "      <td>44518</td>\n",
              "    </tr>\n",
              "    <tr>\n",
              "      <th>1</th>\n",
              "      <td>Delaware</td>\n",
              "      <td>Kent County</td>\n",
              "      <td>Donald Trump</td>\n",
              "      <td>REP</td>\n",
              "      <td>40976</td>\n",
              "    </tr>\n",
              "    <tr>\n",
              "      <th>2</th>\n",
              "      <td>Delaware</td>\n",
              "      <td>Kent County</td>\n",
              "      <td>Jo Jorgensen</td>\n",
              "      <td>LIB</td>\n",
              "      <td>1044</td>\n",
              "    </tr>\n",
              "    <tr>\n",
              "      <th>3</th>\n",
              "      <td>Delaware</td>\n",
              "      <td>Kent County</td>\n",
              "      <td>Howie Hawkins</td>\n",
              "      <td>GRN</td>\n",
              "      <td>420</td>\n",
              "    </tr>\n",
              "    <tr>\n",
              "      <th>4</th>\n",
              "      <td>Delaware</td>\n",
              "      <td>Kent County</td>\n",
              "      <td>Write-ins</td>\n",
              "      <td>WRI</td>\n",
              "      <td>0</td>\n",
              "    </tr>\n",
              "    <tr>\n",
              "      <th>...</th>\n",
              "      <td>...</td>\n",
              "      <td>...</td>\n",
              "      <td>...</td>\n",
              "      <td>...</td>\n",
              "      <td>...</td>\n",
              "    </tr>\n",
              "    <tr>\n",
              "      <th>31187</th>\n",
              "      <td>Arizona</td>\n",
              "      <td>Maricopa County</td>\n",
              "      <td>Jo Jorgensen</td>\n",
              "      <td>LIB</td>\n",
              "      <td>27483</td>\n",
              "    </tr>\n",
              "    <tr>\n",
              "      <th>31188</th>\n",
              "      <td>Arizona</td>\n",
              "      <td>Maricopa County</td>\n",
              "      <td>Write-ins</td>\n",
              "      <td>WRI</td>\n",
              "      <td>0</td>\n",
              "    </tr>\n",
              "    <tr>\n",
              "      <th>31189</th>\n",
              "      <td>Arizona</td>\n",
              "      <td>Mohave County</td>\n",
              "      <td>Donald Trump</td>\n",
              "      <td>REP</td>\n",
              "      <td>77724</td>\n",
              "    </tr>\n",
              "    <tr>\n",
              "      <th>31190</th>\n",
              "      <td>Arizona</td>\n",
              "      <td>Mohave County</td>\n",
              "      <td>Joe Biden</td>\n",
              "      <td>DEM</td>\n",
              "      <td>24687</td>\n",
              "    </tr>\n",
              "    <tr>\n",
              "      <th>31191</th>\n",
              "      <td>Arizona</td>\n",
              "      <td>Mohave County</td>\n",
              "      <td>Jo Jorgensen</td>\n",
              "      <td>LIB</td>\n",
              "      <td>1281</td>\n",
              "    </tr>\n",
              "  </tbody>\n",
              "</table>\n",
              "<p>31192 rows × 5 columns</p>\n",
              "</div>"
            ],
            "text/plain": [
              "          state           county      candidate party  votes\n",
              "0      Delaware      Kent County      Joe Biden   DEM  44518\n",
              "1      Delaware      Kent County   Donald Trump   REP  40976\n",
              "2      Delaware      Kent County   Jo Jorgensen   LIB   1044\n",
              "3      Delaware      Kent County  Howie Hawkins   GRN    420\n",
              "4      Delaware      Kent County      Write-ins   WRI      0\n",
              "...         ...              ...            ...   ...    ...\n",
              "31187   Arizona  Maricopa County   Jo Jorgensen   LIB  27483\n",
              "31188   Arizona  Maricopa County      Write-ins   WRI      0\n",
              "31189   Arizona    Mohave County   Donald Trump   REP  77724\n",
              "31190   Arizona    Mohave County      Joe Biden   DEM  24687\n",
              "31191   Arizona    Mohave County   Jo Jorgensen   LIB   1281\n",
              "\n",
              "[31192 rows x 5 columns]"
            ]
          },
          "metadata": {
            "tags": []
          },
          "execution_count": 0
        }
      ]
    },
    {
      "cell_type": "code",
      "metadata": {
        "colab": {
          "background_save": true
        },
        "id": "uExnGWdNekD0",
        "outputId": "32e952c8-e581-41ea-ddf2-f1ea0439205e"
      },
      "source": [
        "# exibindo as colunas (features) relevantes\n",
        "eua.columns"
      ],
      "execution_count": null,
      "outputs": [
        {
          "output_type": "execute_result",
          "data": {
            "text/plain": [
              "Index(['state', 'county', 'candidate', 'party', 'votes'], dtype='object')"
            ]
          },
          "metadata": {
            "tags": []
          },
          "execution_count": 0
        }
      ]
    },
    {
      "cell_type": "code",
      "metadata": {
        "colab": {
          "background_save": true
        },
        "id": "vyhT4Bwmel1M",
        "outputId": "af9eab94-cc42-4d4f-a741-d39689ae2b31"
      },
      "source": [
        "# contando os valores faltantes\n",
        "eua.isnull().sum()"
      ],
      "execution_count": null,
      "outputs": [
        {
          "output_type": "execute_result",
          "data": {
            "text/plain": [
              "state        0\n",
              "county       0\n",
              "candidate    0\n",
              "party        0\n",
              "votes        0\n",
              "dtype: int64"
            ]
          },
          "metadata": {
            "tags": []
          },
          "execution_count": 0
        }
      ]
    },
    {
      "cell_type": "code",
      "metadata": {
        "colab": {
          "background_save": true
        },
        "id": "ApPJq8ipenY9",
        "outputId": "fcec3185-d02d-444f-da10-60894a166e30"
      },
      "source": [
        "#transformando a variavel target 'candidatos' (candidate) em numerica \n",
        "from sklearn.preprocessing import LabelEncoder\n",
        "labelencoder_X = LabelEncoder()\n",
        "eua['NCandidate'] = labelencoder_X.fit_transform(eua['candidate'])\n",
        "eua['NCandidate'].value_counts()\n",
        "#12 = Jo Jorgensen        \n",
        "#19 = Donald Trump                 \n",
        "#20 = Joe Biden                    \n",
        "#15 = Howie Hawkins                \n",
        "#1  = Write-ins                  \n",
        "#34 = Rocky De La Fuente           \n",
        "#11 = Don Blankenship              \n",
        "#6  = Brock Pierce                 \n",
        "#25 = Kanye West                   \n",
        "#14 = Gloria La Riva               \n",
        "#5  = Brian Carroll                 \n",
        "#2  = Alyson Kennedy                \n",
        "#29 = Phil Collins                  \n",
        "#27 = Blake Huber                   \n",
        "#4  = Kyle Kopitke                  \n",
        "#17 = Jerome Segal                  \n",
        "#26 = Zachary Scalf                 \n",
        "#13 = Brooke Paige                  \n",
        "#8  = Richard Duncan                \n",
        "#7  = Gary Swing                    \n",
        "#32 = Christopher LaFontaine        \n",
        "#37 = Keith McCormic                \n",
        "#3  = Bill Hammons                  \n",
        "#16 = Jade Simmons                  \n",
        "#10 = Dario Hunter                  \n",
        "#33 = Ricki Sue King                 \n",
        "#21 = Joe McHugh                     \n",
        "#9  = John Richard Myers             \n",
        "#22 = Connie Gammon                  \n",
        "#31 = Tom Hoefling                   \n",
        "#36 = Mark Charles                   \n",
        "#23 = Joseph Kishore                 \n",
        "#24 = Jordan Scott                   \n",
        "#28 = Princess Jacob-Fambro          \n",
        "#30 = President Boddie               \n",
        "#18 = Jesse Ventura                  \n",
        "#35 = Sheila Samm Tittle             \n",
        "#0  = None of these candidates"
      ],
      "execution_count": null,
      "outputs": [
        {
          "output_type": "execute_result",
          "data": {
            "text/plain": [
              "12    4633\n",
              "19    4633\n",
              "20    4633\n",
              "15    2994\n",
              "1     2807\n",
              "34    1562\n",
              "11    1317\n",
              "6     1124\n",
              "25    1082\n",
              "14    1028\n",
              "5      745\n",
              "2      595\n",
              "29     467\n",
              "27     310\n",
              "4      310\n",
              "17     270\n",
              "26     246\n",
              "13     246\n",
              "8      246\n",
              "7      246\n",
              "32     246\n",
              "37     246\n",
              "3      149\n",
              "16     141\n",
              "10     100\n",
              "33      99\n",
              "21      93\n",
              "9       75\n",
              "22      75\n",
              "31      64\n",
              "36      64\n",
              "23      64\n",
              "24      64\n",
              "28      64\n",
              "30      64\n",
              "18      40\n",
              "35      33\n",
              "0       17\n",
              "Name: NCandidate, dtype: int64"
            ]
          },
          "metadata": {
            "tags": []
          },
          "execution_count": 0
        }
      ]
    },
    {
      "cell_type": "code",
      "metadata": {
        "colab": {
          "background_save": true
        },
        "id": "51kGK0NRep81",
        "outputId": "8d1c3aa3-bc66-4cae-bb43-250a2e5f7805"
      },
      "source": [
        "atributos_continuos = ['votes']\n",
        "atributos_categoricos = ['state', 'county', 'party']\n",
        "for col in atributos_categoricos:\n",
        "    dummies = pd.get_dummies(eua[col], prefix=col)\n",
        "    eua = pd.concat([eua, dummies], axis=1)\n",
        "    eua.drop(col, axis=1, inplace=True)\n",
        "eua.head()"
      ],
      "execution_count": null,
      "outputs": [
        {
          "output_type": "execute_result",
          "data": {
            "text/html": [
              "<div>\n",
              "<style scoped>\n",
              "    .dataframe tbody tr th:only-of-type {\n",
              "        vertical-align: middle;\n",
              "    }\n",
              "\n",
              "    .dataframe tbody tr th {\n",
              "        vertical-align: top;\n",
              "    }\n",
              "\n",
              "    .dataframe thead th {\n",
              "        text-align: right;\n",
              "    }\n",
              "</style>\n",
              "<table border=\"1\" class=\"dataframe\">\n",
              "  <thead>\n",
              "    <tr style=\"text-align: right;\">\n",
              "      <th></th>\n",
              "      <th>candidate</th>\n",
              "      <th>votes</th>\n",
              "      <th>NCandidate</th>\n",
              "      <th>state_Alabama</th>\n",
              "      <th>state_Alaska</th>\n",
              "      <th>state_Arizona</th>\n",
              "      <th>state_Arkansas</th>\n",
              "      <th>state_California</th>\n",
              "      <th>state_Colorado</th>\n",
              "      <th>state_Connecticut</th>\n",
              "      <th>state_Delaware</th>\n",
              "      <th>state_District of Columbia</th>\n",
              "      <th>state_Florida</th>\n",
              "      <th>state_Georgia</th>\n",
              "      <th>state_Hawaii</th>\n",
              "      <th>state_Idaho</th>\n",
              "      <th>state_Illinois</th>\n",
              "      <th>state_Indiana</th>\n",
              "      <th>state_Iowa</th>\n",
              "      <th>state_Kansas</th>\n",
              "      <th>state_Kentucky</th>\n",
              "      <th>state_Louisiana</th>\n",
              "      <th>state_Maine</th>\n",
              "      <th>state_Maryland</th>\n",
              "      <th>state_Massachusetts</th>\n",
              "      <th>state_Michigan</th>\n",
              "      <th>state_Minnesota</th>\n",
              "      <th>state_Mississippi</th>\n",
              "      <th>state_Missouri</th>\n",
              "      <th>state_Montana</th>\n",
              "      <th>state_Nebraska</th>\n",
              "      <th>state_Nevada</th>\n",
              "      <th>state_New Hampshire</th>\n",
              "      <th>state_New Jersey</th>\n",
              "      <th>state_New Mexico</th>\n",
              "      <th>state_New York</th>\n",
              "      <th>state_North Carolina</th>\n",
              "      <th>state_North Dakota</th>\n",
              "      <th>state_Ohio</th>\n",
              "      <th>state_Oklahoma</th>\n",
              "      <th>...</th>\n",
              "      <th>county_Yazoo County</th>\n",
              "      <th>county_Yell County</th>\n",
              "      <th>county_Yellow Medicine County</th>\n",
              "      <th>county_Yellowstone County</th>\n",
              "      <th>county_Yoakum County</th>\n",
              "      <th>county_Yolo County</th>\n",
              "      <th>county_York</th>\n",
              "      <th>county_York County</th>\n",
              "      <th>county_Young County</th>\n",
              "      <th>county_Yuba County</th>\n",
              "      <th>county_Yuma County</th>\n",
              "      <th>county_Zapata County</th>\n",
              "      <th>county_Zavala County</th>\n",
              "      <th>county_Ziebach County</th>\n",
              "      <th>party_ALI</th>\n",
              "      <th>party_APV</th>\n",
              "      <th>party_ASP</th>\n",
              "      <th>party_BAR</th>\n",
              "      <th>party_BFP</th>\n",
              "      <th>party_BMP</th>\n",
              "      <th>party_CST</th>\n",
              "      <th>party_DEM</th>\n",
              "      <th>party_GOP</th>\n",
              "      <th>party_GRN</th>\n",
              "      <th>party_IAP</th>\n",
              "      <th>party_IND</th>\n",
              "      <th>party_LIB</th>\n",
              "      <th>party_LLC</th>\n",
              "      <th>party_LLP</th>\n",
              "      <th>party_NON</th>\n",
              "      <th>party_OTH</th>\n",
              "      <th>party_PRG</th>\n",
              "      <th>party_PRO</th>\n",
              "      <th>party_PSL</th>\n",
              "      <th>party_REP</th>\n",
              "      <th>party_SEP</th>\n",
              "      <th>party_SWP</th>\n",
              "      <th>party_UNA</th>\n",
              "      <th>party_UTY</th>\n",
              "      <th>party_WRI</th>\n",
              "    </tr>\n",
              "  </thead>\n",
              "  <tbody>\n",
              "    <tr>\n",
              "      <th>0</th>\n",
              "      <td>Joe Biden</td>\n",
              "      <td>44518</td>\n",
              "      <td>20</td>\n",
              "      <td>0</td>\n",
              "      <td>0</td>\n",
              "      <td>0</td>\n",
              "      <td>0</td>\n",
              "      <td>0</td>\n",
              "      <td>0</td>\n",
              "      <td>0</td>\n",
              "      <td>1</td>\n",
              "      <td>0</td>\n",
              "      <td>0</td>\n",
              "      <td>0</td>\n",
              "      <td>0</td>\n",
              "      <td>0</td>\n",
              "      <td>0</td>\n",
              "      <td>0</td>\n",
              "      <td>0</td>\n",
              "      <td>0</td>\n",
              "      <td>0</td>\n",
              "      <td>0</td>\n",
              "      <td>0</td>\n",
              "      <td>0</td>\n",
              "      <td>0</td>\n",
              "      <td>0</td>\n",
              "      <td>0</td>\n",
              "      <td>0</td>\n",
              "      <td>0</td>\n",
              "      <td>0</td>\n",
              "      <td>0</td>\n",
              "      <td>0</td>\n",
              "      <td>0</td>\n",
              "      <td>0</td>\n",
              "      <td>0</td>\n",
              "      <td>0</td>\n",
              "      <td>0</td>\n",
              "      <td>0</td>\n",
              "      <td>0</td>\n",
              "      <td>0</td>\n",
              "      <td>...</td>\n",
              "      <td>0</td>\n",
              "      <td>0</td>\n",
              "      <td>0</td>\n",
              "      <td>0</td>\n",
              "      <td>0</td>\n",
              "      <td>0</td>\n",
              "      <td>0</td>\n",
              "      <td>0</td>\n",
              "      <td>0</td>\n",
              "      <td>0</td>\n",
              "      <td>0</td>\n",
              "      <td>0</td>\n",
              "      <td>0</td>\n",
              "      <td>0</td>\n",
              "      <td>0</td>\n",
              "      <td>0</td>\n",
              "      <td>0</td>\n",
              "      <td>0</td>\n",
              "      <td>0</td>\n",
              "      <td>0</td>\n",
              "      <td>0</td>\n",
              "      <td>1</td>\n",
              "      <td>0</td>\n",
              "      <td>0</td>\n",
              "      <td>0</td>\n",
              "      <td>0</td>\n",
              "      <td>0</td>\n",
              "      <td>0</td>\n",
              "      <td>0</td>\n",
              "      <td>0</td>\n",
              "      <td>0</td>\n",
              "      <td>0</td>\n",
              "      <td>0</td>\n",
              "      <td>0</td>\n",
              "      <td>0</td>\n",
              "      <td>0</td>\n",
              "      <td>0</td>\n",
              "      <td>0</td>\n",
              "      <td>0</td>\n",
              "      <td>0</td>\n",
              "    </tr>\n",
              "    <tr>\n",
              "      <th>1</th>\n",
              "      <td>Donald Trump</td>\n",
              "      <td>40976</td>\n",
              "      <td>12</td>\n",
              "      <td>0</td>\n",
              "      <td>0</td>\n",
              "      <td>0</td>\n",
              "      <td>0</td>\n",
              "      <td>0</td>\n",
              "      <td>0</td>\n",
              "      <td>0</td>\n",
              "      <td>1</td>\n",
              "      <td>0</td>\n",
              "      <td>0</td>\n",
              "      <td>0</td>\n",
              "      <td>0</td>\n",
              "      <td>0</td>\n",
              "      <td>0</td>\n",
              "      <td>0</td>\n",
              "      <td>0</td>\n",
              "      <td>0</td>\n",
              "      <td>0</td>\n",
              "      <td>0</td>\n",
              "      <td>0</td>\n",
              "      <td>0</td>\n",
              "      <td>0</td>\n",
              "      <td>0</td>\n",
              "      <td>0</td>\n",
              "      <td>0</td>\n",
              "      <td>0</td>\n",
              "      <td>0</td>\n",
              "      <td>0</td>\n",
              "      <td>0</td>\n",
              "      <td>0</td>\n",
              "      <td>0</td>\n",
              "      <td>0</td>\n",
              "      <td>0</td>\n",
              "      <td>0</td>\n",
              "      <td>0</td>\n",
              "      <td>0</td>\n",
              "      <td>0</td>\n",
              "      <td>...</td>\n",
              "      <td>0</td>\n",
              "      <td>0</td>\n",
              "      <td>0</td>\n",
              "      <td>0</td>\n",
              "      <td>0</td>\n",
              "      <td>0</td>\n",
              "      <td>0</td>\n",
              "      <td>0</td>\n",
              "      <td>0</td>\n",
              "      <td>0</td>\n",
              "      <td>0</td>\n",
              "      <td>0</td>\n",
              "      <td>0</td>\n",
              "      <td>0</td>\n",
              "      <td>0</td>\n",
              "      <td>0</td>\n",
              "      <td>0</td>\n",
              "      <td>0</td>\n",
              "      <td>0</td>\n",
              "      <td>0</td>\n",
              "      <td>0</td>\n",
              "      <td>0</td>\n",
              "      <td>0</td>\n",
              "      <td>0</td>\n",
              "      <td>0</td>\n",
              "      <td>0</td>\n",
              "      <td>0</td>\n",
              "      <td>0</td>\n",
              "      <td>0</td>\n",
              "      <td>0</td>\n",
              "      <td>0</td>\n",
              "      <td>0</td>\n",
              "      <td>0</td>\n",
              "      <td>0</td>\n",
              "      <td>1</td>\n",
              "      <td>0</td>\n",
              "      <td>0</td>\n",
              "      <td>0</td>\n",
              "      <td>0</td>\n",
              "      <td>0</td>\n",
              "    </tr>\n",
              "    <tr>\n",
              "      <th>2</th>\n",
              "      <td>Jo Jorgensen</td>\n",
              "      <td>1044</td>\n",
              "      <td>19</td>\n",
              "      <td>0</td>\n",
              "      <td>0</td>\n",
              "      <td>0</td>\n",
              "      <td>0</td>\n",
              "      <td>0</td>\n",
              "      <td>0</td>\n",
              "      <td>0</td>\n",
              "      <td>1</td>\n",
              "      <td>0</td>\n",
              "      <td>0</td>\n",
              "      <td>0</td>\n",
              "      <td>0</td>\n",
              "      <td>0</td>\n",
              "      <td>0</td>\n",
              "      <td>0</td>\n",
              "      <td>0</td>\n",
              "      <td>0</td>\n",
              "      <td>0</td>\n",
              "      <td>0</td>\n",
              "      <td>0</td>\n",
              "      <td>0</td>\n",
              "      <td>0</td>\n",
              "      <td>0</td>\n",
              "      <td>0</td>\n",
              "      <td>0</td>\n",
              "      <td>0</td>\n",
              "      <td>0</td>\n",
              "      <td>0</td>\n",
              "      <td>0</td>\n",
              "      <td>0</td>\n",
              "      <td>0</td>\n",
              "      <td>0</td>\n",
              "      <td>0</td>\n",
              "      <td>0</td>\n",
              "      <td>0</td>\n",
              "      <td>0</td>\n",
              "      <td>0</td>\n",
              "      <td>...</td>\n",
              "      <td>0</td>\n",
              "      <td>0</td>\n",
              "      <td>0</td>\n",
              "      <td>0</td>\n",
              "      <td>0</td>\n",
              "      <td>0</td>\n",
              "      <td>0</td>\n",
              "      <td>0</td>\n",
              "      <td>0</td>\n",
              "      <td>0</td>\n",
              "      <td>0</td>\n",
              "      <td>0</td>\n",
              "      <td>0</td>\n",
              "      <td>0</td>\n",
              "      <td>0</td>\n",
              "      <td>0</td>\n",
              "      <td>0</td>\n",
              "      <td>0</td>\n",
              "      <td>0</td>\n",
              "      <td>0</td>\n",
              "      <td>0</td>\n",
              "      <td>0</td>\n",
              "      <td>0</td>\n",
              "      <td>0</td>\n",
              "      <td>0</td>\n",
              "      <td>0</td>\n",
              "      <td>1</td>\n",
              "      <td>0</td>\n",
              "      <td>0</td>\n",
              "      <td>0</td>\n",
              "      <td>0</td>\n",
              "      <td>0</td>\n",
              "      <td>0</td>\n",
              "      <td>0</td>\n",
              "      <td>0</td>\n",
              "      <td>0</td>\n",
              "      <td>0</td>\n",
              "      <td>0</td>\n",
              "      <td>0</td>\n",
              "      <td>0</td>\n",
              "    </tr>\n",
              "    <tr>\n",
              "      <th>3</th>\n",
              "      <td>Howie Hawkins</td>\n",
              "      <td>420</td>\n",
              "      <td>15</td>\n",
              "      <td>0</td>\n",
              "      <td>0</td>\n",
              "      <td>0</td>\n",
              "      <td>0</td>\n",
              "      <td>0</td>\n",
              "      <td>0</td>\n",
              "      <td>0</td>\n",
              "      <td>1</td>\n",
              "      <td>0</td>\n",
              "      <td>0</td>\n",
              "      <td>0</td>\n",
              "      <td>0</td>\n",
              "      <td>0</td>\n",
              "      <td>0</td>\n",
              "      <td>0</td>\n",
              "      <td>0</td>\n",
              "      <td>0</td>\n",
              "      <td>0</td>\n",
              "      <td>0</td>\n",
              "      <td>0</td>\n",
              "      <td>0</td>\n",
              "      <td>0</td>\n",
              "      <td>0</td>\n",
              "      <td>0</td>\n",
              "      <td>0</td>\n",
              "      <td>0</td>\n",
              "      <td>0</td>\n",
              "      <td>0</td>\n",
              "      <td>0</td>\n",
              "      <td>0</td>\n",
              "      <td>0</td>\n",
              "      <td>0</td>\n",
              "      <td>0</td>\n",
              "      <td>0</td>\n",
              "      <td>0</td>\n",
              "      <td>0</td>\n",
              "      <td>0</td>\n",
              "      <td>...</td>\n",
              "      <td>0</td>\n",
              "      <td>0</td>\n",
              "      <td>0</td>\n",
              "      <td>0</td>\n",
              "      <td>0</td>\n",
              "      <td>0</td>\n",
              "      <td>0</td>\n",
              "      <td>0</td>\n",
              "      <td>0</td>\n",
              "      <td>0</td>\n",
              "      <td>0</td>\n",
              "      <td>0</td>\n",
              "      <td>0</td>\n",
              "      <td>0</td>\n",
              "      <td>0</td>\n",
              "      <td>0</td>\n",
              "      <td>0</td>\n",
              "      <td>0</td>\n",
              "      <td>0</td>\n",
              "      <td>0</td>\n",
              "      <td>0</td>\n",
              "      <td>0</td>\n",
              "      <td>0</td>\n",
              "      <td>1</td>\n",
              "      <td>0</td>\n",
              "      <td>0</td>\n",
              "      <td>0</td>\n",
              "      <td>0</td>\n",
              "      <td>0</td>\n",
              "      <td>0</td>\n",
              "      <td>0</td>\n",
              "      <td>0</td>\n",
              "      <td>0</td>\n",
              "      <td>0</td>\n",
              "      <td>0</td>\n",
              "      <td>0</td>\n",
              "      <td>0</td>\n",
              "      <td>0</td>\n",
              "      <td>0</td>\n",
              "      <td>0</td>\n",
              "    </tr>\n",
              "    <tr>\n",
              "      <th>4</th>\n",
              "      <td>Write-ins</td>\n",
              "      <td>0</td>\n",
              "      <td>1</td>\n",
              "      <td>0</td>\n",
              "      <td>0</td>\n",
              "      <td>0</td>\n",
              "      <td>0</td>\n",
              "      <td>0</td>\n",
              "      <td>0</td>\n",
              "      <td>0</td>\n",
              "      <td>1</td>\n",
              "      <td>0</td>\n",
              "      <td>0</td>\n",
              "      <td>0</td>\n",
              "      <td>0</td>\n",
              "      <td>0</td>\n",
              "      <td>0</td>\n",
              "      <td>0</td>\n",
              "      <td>0</td>\n",
              "      <td>0</td>\n",
              "      <td>0</td>\n",
              "      <td>0</td>\n",
              "      <td>0</td>\n",
              "      <td>0</td>\n",
              "      <td>0</td>\n",
              "      <td>0</td>\n",
              "      <td>0</td>\n",
              "      <td>0</td>\n",
              "      <td>0</td>\n",
              "      <td>0</td>\n",
              "      <td>0</td>\n",
              "      <td>0</td>\n",
              "      <td>0</td>\n",
              "      <td>0</td>\n",
              "      <td>0</td>\n",
              "      <td>0</td>\n",
              "      <td>0</td>\n",
              "      <td>0</td>\n",
              "      <td>0</td>\n",
              "      <td>0</td>\n",
              "      <td>...</td>\n",
              "      <td>0</td>\n",
              "      <td>0</td>\n",
              "      <td>0</td>\n",
              "      <td>0</td>\n",
              "      <td>0</td>\n",
              "      <td>0</td>\n",
              "      <td>0</td>\n",
              "      <td>0</td>\n",
              "      <td>0</td>\n",
              "      <td>0</td>\n",
              "      <td>0</td>\n",
              "      <td>0</td>\n",
              "      <td>0</td>\n",
              "      <td>0</td>\n",
              "      <td>0</td>\n",
              "      <td>0</td>\n",
              "      <td>0</td>\n",
              "      <td>0</td>\n",
              "      <td>0</td>\n",
              "      <td>0</td>\n",
              "      <td>0</td>\n",
              "      <td>0</td>\n",
              "      <td>0</td>\n",
              "      <td>0</td>\n",
              "      <td>0</td>\n",
              "      <td>0</td>\n",
              "      <td>0</td>\n",
              "      <td>0</td>\n",
              "      <td>0</td>\n",
              "      <td>0</td>\n",
              "      <td>0</td>\n",
              "      <td>0</td>\n",
              "      <td>0</td>\n",
              "      <td>0</td>\n",
              "      <td>0</td>\n",
              "      <td>0</td>\n",
              "      <td>0</td>\n",
              "      <td>0</td>\n",
              "      <td>0</td>\n",
              "      <td>1</td>\n",
              "    </tr>\n",
              "  </tbody>\n",
              "</table>\n",
              "<p>5 rows × 3087 columns</p>\n",
              "</div>"
            ],
            "text/plain": [
              "       candidate  votes  NCandidate  ...  party_UNA  party_UTY  party_WRI\n",
              "0      Joe Biden  44518          20  ...          0          0          0\n",
              "1   Donald Trump  40976          12  ...          0          0          0\n",
              "2   Jo Jorgensen   1044          19  ...          0          0          0\n",
              "3  Howie Hawkins    420          15  ...          0          0          0\n",
              "4      Write-ins      0           1  ...          0          0          1\n",
              "\n",
              "[5 rows x 3087 columns]"
            ]
          },
          "metadata": {
            "tags": []
          },
          "execution_count": 0
        }
      ]
    },
    {
      "cell_type": "code",
      "metadata": {
        "colab": {
          "background_save": true
        },
        "id": "njRaWQABfLxW"
      },
      "source": [
        "# Eliminando as colunas repetidas e não numericas\n",
        "eua.drop(['candidate'],axis=1,inplace=True)"
      ],
      "execution_count": null,
      "outputs": []
    },
    {
      "cell_type": "code",
      "metadata": {
        "colab": {
          "background_save": true
        },
        "id": "DxZjRFebfu9O",
        "outputId": "611dcb3a-bd84-4d13-d055-57138b6cec02"
      },
      "source": [
        "from sklearn.model_selection import train_test_split\n",
        "\n",
        "#Importa a biblioteca do modelo Naive Bayes Gaussiano\n",
        "from sklearn.naive_bayes import GaussianNB\n",
        "X_train, X_test, y_train, y_test = train_test_split(eua.drop('NCandidate',axis=1), eua['NCandidate'])\n",
        "\n",
        "modeloG = GaussianNB()\n",
        "modeloG.fit(X_train,y_train)"
      ],
      "execution_count": null,
      "outputs": [
        {
          "output_type": "execute_result",
          "data": {
            "text/plain": [
              "GaussianNB(priors=None, var_smoothing=1e-09)"
            ]
          },
          "metadata": {
            "tags": []
          },
          "execution_count": 0
        }
      ]
    },
    {
      "cell_type": "code",
      "metadata": {
        "colab": {
          "background_save": true
        },
        "id": "mICHrgbNfwUW",
        "outputId": "ecde98e0-bd79-4492-d347-08aa5f3861e4"
      },
      "source": [
        "#Importa a biblioteca do modelo Naive Bayes Bernoulli\n",
        "from sklearn.naive_bayes import BernoulliNB\n",
        "\n",
        "modeloB = BernoulliNB()\n",
        "modeloB.fit(X_train,y_train)"
      ],
      "execution_count": null,
      "outputs": [
        {
          "output_type": "execute_result",
          "data": {
            "text/plain": [
              "BernoulliNB(alpha=1.0, binarize=0.0, class_prior=None, fit_prior=True)"
            ]
          },
          "metadata": {
            "tags": []
          },
          "execution_count": 0
        }
      ]
    },
    {
      "cell_type": "code",
      "metadata": {
        "colab": {
          "background_save": true
        },
        "id": "8aW9iTSAfxk2",
        "outputId": "eb63e58c-2c0d-4d64-ce59-f8b57a5339f3"
      },
      "source": [
        "#Importa a biblioteca do modelo Naive Bayes Multinomial\n",
        "from sklearn.naive_bayes import MultinomialNB\n",
        "\n",
        "modeloM = MultinomialNB()\n",
        "modeloM.fit(X_train,y_train)"
      ],
      "execution_count": null,
      "outputs": [
        {
          "output_type": "execute_result",
          "data": {
            "text/plain": [
              "MultinomialNB(alpha=1.0, class_prior=None, fit_prior=True)"
            ]
          },
          "metadata": {
            "tags": []
          },
          "execution_count": 0
        }
      ]
    },
    {
      "cell_type": "code",
      "metadata": {
        "colab": {
          "background_save": true
        },
        "id": "TqiNxGKkfycW",
        "outputId": "73130031-0222-4f1b-cea5-97aaf1056983"
      },
      "source": [
        "y_pred = modeloG.predict(X_test)\n",
        "y_pred"
      ],
      "execution_count": null,
      "outputs": [
        {
          "output_type": "execute_result",
          "data": {
            "text/plain": [
              "array([ 6,  1,  8, ..., 15,  1, 32])"
            ]
          },
          "metadata": {
            "tags": []
          },
          "execution_count": 0
        }
      ]
    },
    {
      "cell_type": "code",
      "metadata": {
        "colab": {
          "background_save": true
        },
        "id": "jw7WVvR-fzr2",
        "outputId": "ce5d5483-6dc6-458d-96eb-22a75ffd8c5f"
      },
      "source": [
        "y_pred = modeloM.predict(X_test)\n",
        "y_pred"
      ],
      "execution_count": null,
      "outputs": [
        {
          "output_type": "execute_result",
          "data": {
            "text/plain": [
              "array([25, 15, 19, ..., 12,  1,  6])"
            ]
          },
          "metadata": {
            "tags": []
          },
          "execution_count": 0
        }
      ]
    },
    {
      "cell_type": "code",
      "metadata": {
        "colab": {
          "background_save": true
        },
        "id": "Whfsn0qGf0qu",
        "outputId": "6840b0e4-6fe3-4d49-c751-36a38efa84b1"
      },
      "source": [
        "y_pred = modeloB.predict(X_test)\n",
        "y_pred"
      ],
      "execution_count": null,
      "outputs": [
        {
          "output_type": "execute_result",
          "data": {
            "text/plain": [
              "array([25, 15, 19, ..., 12,  1, 25])"
            ]
          },
          "metadata": {
            "tags": []
          },
          "execution_count": 0
        }
      ]
    },
    {
      "cell_type": "code",
      "metadata": {
        "colab": {
          "background_save": true
        },
        "id": "khIEJC23f11m",
        "outputId": "9481e29f-a104-4dcc-caa7-afd41bab4222"
      },
      "source": [
        "# bibliotecas para calcular precisão \n",
        "from sklearn.model_selection import train_test_split\n",
        "from sklearn.neighbors import KNeighborsClassifier\n",
        "\n",
        "# validando o modelo utilizando o conjunto de teste\n",
        "precisaoG = str(round(modeloG.score(X_test,y_test) * 100, 2))+\"%\"\n",
        "\n",
        "# imprimindo o resultado\n",
        "print(\"A acurácia do modelo Gaussian foi\",precisaoG,'\\n')\n",
        "\n",
        "# predizendo o teste\n",
        "y_pred = modeloG.predict(X_test)\n",
        "\n",
        "# comparando predição com o real\n",
        "from sklearn.metrics import classification_report\n",
        "print(classification_report(y_test, y_pred))\n",
        "\n",
        "# matriz de confusão \n",
        "confusion_matrix(y_test, y_pred)"
      ],
      "execution_count": null,
      "outputs": [
        {
          "output_type": "stream",
          "text": [
            "A acurácia do modelo Gaussian foi 45.67% \n",
            "\n",
            "              precision    recall  f1-score   support\n",
            "\n",
            "           0       0.00      0.00      0.00         9\n",
            "           1       0.47      0.44      0.46       708\n",
            "           2       0.56      0.32      0.41       152\n",
            "           3       0.00      0.00      0.00        39\n",
            "           4       0.29      0.19      0.23        79\n",
            "           5       1.00      0.35      0.52       178\n",
            "           6       0.40      0.38      0.39       294\n",
            "           7       0.19      0.62      0.29        66\n",
            "           8       0.03      0.38      0.06        50\n",
            "           9       0.00      0.00      0.00        13\n",
            "          10       0.00      0.00      0.00        27\n",
            "          11       0.97      0.60      0.74       341\n",
            "          12       0.96      0.57      0.72      1126\n",
            "          13       0.18      0.96      0.30        54\n",
            "          14       1.00      0.02      0.04       276\n",
            "          15       0.71      0.59      0.65       748\n",
            "          16       0.00      0.00      0.00        31\n",
            "          17       0.00      0.00      0.00        69\n",
            "          18       1.00      0.69      0.82        13\n",
            "          19       0.53      0.67      0.59      1149\n",
            "          20       0.96      0.45      0.61      1138\n",
            "          21       0.00      0.00      0.00        29\n",
            "          22       1.00      0.52      0.69        21\n",
            "          23       0.19      0.21      0.20        19\n",
            "          24       1.00      0.07      0.13        14\n",
            "          25       0.45      0.04      0.07       274\n",
            "          26       1.00      1.00      1.00        70\n",
            "          27       0.11      0.09      0.10        77\n",
            "          28       0.00      0.00      0.00        19\n",
            "          29       0.17      0.30      0.22       115\n",
            "          30       0.31      0.29      0.30        17\n",
            "          31       0.20      0.06      0.10        16\n",
            "          32       0.03      0.11      0.05        71\n",
            "          33       0.84      0.52      0.64        31\n",
            "          34       1.00      0.20      0.33       378\n",
            "          35       0.00      0.00      0.00         8\n",
            "          36       1.00      0.35      0.52        17\n",
            "          37       0.05      1.00      0.09        62\n",
            "\n",
            "    accuracy                           0.46      7798\n",
            "   macro avg       0.44      0.32      0.30      7798\n",
            "weighted avg       0.69      0.46      0.50      7798\n",
            "\n"
          ],
          "name": "stdout"
        },
        {
          "output_type": "stream",
          "text": [
            "/usr/local/lib/python3.6/dist-packages/sklearn/metrics/_classification.py:1272: UndefinedMetricWarning: Precision and F-score are ill-defined and being set to 0.0 in labels with no predicted samples. Use `zero_division` parameter to control this behavior.\n",
            "  _warn_prf(average, modifier, msg_start, len(result))\n"
          ],
          "name": "stderr"
        },
        {
          "output_type": "execute_result",
          "data": {
            "text/plain": [
              "array([[  0,   5,   0, ...,   0,   0,   0],\n",
              "       [  0, 311,   0, ...,   0,   0, 263],\n",
              "       [  0,   6,  49, ...,   0,   0,  52],\n",
              "       ...,\n",
              "       [  0,   0,   0, ...,   0,   0,   0],\n",
              "       [  0,   0,   1, ...,   0,   6,   2],\n",
              "       [  0,   0,   0, ...,   0,   0,  62]])"
            ]
          },
          "metadata": {
            "tags": []
          },
          "execution_count": 0
        }
      ]
    },
    {
      "cell_type": "code",
      "metadata": {
        "colab": {
          "background_save": true
        },
        "id": "xMWCPbscf3Ve",
        "outputId": "059b019b-1303-4f5c-afdb-da57e063049c"
      },
      "source": [
        "# validando o modelo utilizando o conjunto de teste\n",
        "precisaoM = str(round(modeloM.score(X_test,y_test) * 100, 2))+\"%\"\n",
        "\n",
        "# imprimindo o resultado\n",
        "print(\"A acurácia do modelo Multinomial foi\",precisaoM,'\\n')\n",
        "\n",
        "# predizendo o teste\n",
        "y_pred = modeloM.predict(X_test)\n",
        "\n",
        "# comparando predição com o real\n",
        "from sklearn.metrics import classification_report\n",
        "print(classification_report(y_test, y_pred))\n",
        "\n",
        "# matriz de confusão \n",
        "confusion_matrix(y_test, y_pred)"
      ],
      "execution_count": null,
      "outputs": [
        {
          "output_type": "stream",
          "text": [
            "A acurácia do modelo Multinomial foi 80.39% \n",
            "\n",
            "              precision    recall  f1-score   support\n",
            "\n",
            "           0       0.00      0.00      0.00         9\n",
            "           1       0.97      0.93      0.95       708\n",
            "           2       0.83      0.88      0.86       152\n",
            "           3       1.00      0.74      0.85        39\n",
            "           4       0.85      0.96      0.90        79\n",
            "           5       0.80      0.89      0.84       178\n",
            "           6       0.28      0.34      0.31       294\n",
            "           7       0.98      0.68      0.80        66\n",
            "           8       0.13      0.18      0.15        50\n",
            "           9       0.00      0.00      0.00        13\n",
            "          10       1.00      0.78      0.88        27\n",
            "          11       0.94      0.91      0.93       341\n",
            "          12       0.96      0.88      0.92      1126\n",
            "          13       0.50      0.96      0.66        54\n",
            "          14       0.93      0.77      0.84       276\n",
            "          15       0.86      0.90      0.88       748\n",
            "          16       0.00      0.00      0.00        31\n",
            "          17       0.97      0.91      0.94        69\n",
            "          18       0.00      0.00      0.00        13\n",
            "          19       0.75      0.87      0.80      1149\n",
            "          20       0.95      0.87      0.91      1138\n",
            "          21       0.57      0.55      0.56        29\n",
            "          22       1.00      0.33      0.50        21\n",
            "          23       0.19      0.16      0.17        19\n",
            "          24       1.00      0.93      0.96        14\n",
            "          25       0.41      0.36      0.38       274\n",
            "          26       1.00      0.97      0.99        70\n",
            "          27       0.88      0.94      0.91        77\n",
            "          28       0.00      0.00      0.00        19\n",
            "          29       0.90      0.89      0.89       115\n",
            "          30       0.00      0.00      0.00        17\n",
            "          31       0.00      0.00      0.00        16\n",
            "          32       0.00      0.00      0.00        71\n",
            "          33       0.95      0.68      0.79        31\n",
            "          34       0.85      0.92      0.88       378\n",
            "          35       0.00      0.00      0.00         8\n",
            "          36       1.00      0.41      0.58        17\n",
            "          37       0.02      0.06      0.04        62\n",
            "\n",
            "    accuracy                           0.80      7798\n",
            "   macro avg       0.59      0.54      0.55      7798\n",
            "weighted avg       0.82      0.80      0.81      7798\n",
            "\n"
          ],
          "name": "stdout"
        },
        {
          "output_type": "stream",
          "text": [
            "/usr/local/lib/python3.6/dist-packages/sklearn/metrics/_classification.py:1272: UndefinedMetricWarning: Precision and F-score are ill-defined and being set to 0.0 in labels with no predicted samples. Use `zero_division` parameter to control this behavior.\n",
            "  _warn_prf(average, modifier, msg_start, len(result))\n"
          ],
          "name": "stderr"
        },
        {
          "output_type": "execute_result",
          "data": {
            "text/plain": [
              "array([[  0,   0,   0, ...,   0,   0,   0],\n",
              "       [  0, 656,   2, ...,   0,   0,   1],\n",
              "       [  0,   0, 134, ...,   0,   0,   0],\n",
              "       ...,\n",
              "       [  0,   0,   0, ...,   0,   0,   0],\n",
              "       [  0,   0,   2, ...,   0,   7,   0],\n",
              "       [  0,   0,   0, ...,   0,   0,   4]])"
            ]
          },
          "metadata": {
            "tags": []
          },
          "execution_count": 0
        }
      ]
    },
    {
      "cell_type": "code",
      "metadata": {
        "colab": {
          "background_save": true
        },
        "id": "XcFKBCOpf5bv",
        "outputId": "9e03de01-abf4-4095-e64f-ddb1968ed9ba"
      },
      "source": [
        "# validando o modelo utilizando o conjunto de teste\n",
        "precisaoB = str(round(modeloB.score(X_test,y_test) * 100, 2))+\"%\"\n",
        "\n",
        "# imprimindo o resultado\n",
        "print(\"A acurácia do modelo Bernoulli foi\",precisaoB,'\\n')\n",
        "\n",
        "# predizendo o teste\n",
        "y_pred = modeloB.predict(X_test)\n",
        "\n",
        "# comparando predição com o real\n",
        "from sklearn.metrics import classification_report\n",
        "print(classification_report(y_test, y_pred))\n",
        "\n",
        "# matriz de confusão \n",
        "confusion_matrix(y_test, y_pred)"
      ],
      "execution_count": null,
      "outputs": [
        {
          "output_type": "stream",
          "text": [
            "A acurácia do modelo Bernoulli foi 88.96% \n",
            "\n",
            "              precision    recall  f1-score   support\n",
            "\n",
            "           0       0.00      0.00      0.00         9\n",
            "           1       1.00      1.00      1.00       708\n",
            "           2       1.00      1.00      1.00       152\n",
            "           3       0.00      0.00      0.00        39\n",
            "           4       1.00      1.00      1.00        79\n",
            "           5       1.00      1.00      1.00       178\n",
            "           6       0.24      0.36      0.29       294\n",
            "           7       1.00      1.00      1.00        66\n",
            "           8       0.00      0.00      0.00        50\n",
            "           9       0.00      0.00      0.00        13\n",
            "          10       0.00      0.00      0.00        27\n",
            "          11       0.74      1.00      0.85       341\n",
            "          12       1.00      1.00      1.00      1126\n",
            "          13       1.00      1.00      1.00        54\n",
            "          14       0.93      1.00      0.96       276\n",
            "          15       0.97      1.00      0.99       748\n",
            "          16       0.00      0.00      0.00        31\n",
            "          17       1.00      0.97      0.99        69\n",
            "          18       0.00      0.00      0.00        13\n",
            "          19       1.00      1.00      1.00      1149\n",
            "          20       1.00      1.00      1.00      1138\n",
            "          21       0.00      0.00      0.00        29\n",
            "          22       0.00      0.00      0.00        21\n",
            "          23       0.00      0.00      0.00        19\n",
            "          24       0.00      0.00      0.00        14\n",
            "          25       0.25      0.40      0.31       274\n",
            "          26       1.00      1.00      1.00        70\n",
            "          27       1.00      1.00      1.00        77\n",
            "          28       0.00      0.00      0.00        19\n",
            "          29       1.00      1.00      1.00       115\n",
            "          30       0.00      0.00      0.00        17\n",
            "          31       0.00      0.00      0.00        16\n",
            "          32       0.00      0.00      0.00        71\n",
            "          33       0.00      0.00      0.00        31\n",
            "          34       0.93      1.00      0.96       378\n",
            "          35       0.00      0.00      0.00         8\n",
            "          36       0.00      0.00      0.00        17\n",
            "          37       0.00      0.00      0.00        62\n",
            "\n",
            "    accuracy                           0.89      7798\n",
            "   macro avg       0.45      0.47      0.46      7798\n",
            "weighted avg       0.86      0.89      0.87      7798\n",
            "\n"
          ],
          "name": "stdout"
        },
        {
          "output_type": "stream",
          "text": [
            "/usr/local/lib/python3.6/dist-packages/sklearn/metrics/_classification.py:1272: UndefinedMetricWarning: Precision and F-score are ill-defined and being set to 0.0 in labels with no predicted samples. Use `zero_division` parameter to control this behavior.\n",
            "  _warn_prf(average, modifier, msg_start, len(result))\n"
          ],
          "name": "stderr"
        },
        {
          "output_type": "execute_result",
          "data": {
            "text/plain": [
              "array([[  0,   0,   0, ...,   0,   0,   0],\n",
              "       [  0, 708,   0, ...,   0,   0,   0],\n",
              "       [  0,   0, 152, ...,   0,   0,   0],\n",
              "       ...,\n",
              "       [  0,   0,   0, ...,   0,   0,   0],\n",
              "       [  0,   0,   0, ...,   0,   0,   0],\n",
              "       [  0,   0,   0, ...,   0,   0,   0]])"
            ]
          },
          "metadata": {
            "tags": []
          },
          "execution_count": 0
        }
      ]
    },
    {
      "cell_type": "code",
      "metadata": {
        "colab": {
          "background_save": true
        },
        "id": "XdjWvFggf85m"
      },
      "source": [
        "scoresG = []\n",
        "scoresM = []\n",
        "scoresB = []\n",
        "\n",
        "for i in range(100):\n",
        "  X_train, X_test, y_train, y_test = train_test_split(eua.drop('NCandidate',axis=1), eua['NCandidate'])\n",
        "  modeloG = GaussianNB()\n",
        "  modeloG.fit(X_train,y_train)\n",
        "  precisaoG = modeloG.score(X_test,y_test)\n",
        "  scoresG.append(precisaoG)\n",
        "  modeloM = MultinomialNB()\n",
        "  modeloM.fit(X_train,y_train)\n",
        "  precisaoM = modeloM.score(X_test,y_test)\n",
        "  scoresM.append(precisaoM)\n",
        "  modeloB = BernoulliNB()\n",
        "  modeloB.fit(X_train,y_train)\n",
        "  precisaoB = modeloB.score(X_test,y_test)\n",
        "  scoresB.append(precisaoB)"
      ],
      "execution_count": null,
      "outputs": []
    },
    {
      "cell_type": "code",
      "metadata": {
        "colab": {
          "background_save": true
        },
        "id": "13YcTHFwgAOH",
        "outputId": "22bc1e1b-2023-46e8-b151-310046c0d680"
      },
      "source": [
        "print(\"Média do Naive Bayes Gaussian: {:.2f}%\".format(np.mean(scoresG)*100))\n",
        "print(\"Desvio padrão do Naive Bayes Gaussian: {:.2f}%\".format(np.std(scoresG)*100))\n",
        "\n",
        "import matplotlib.pyplot as plt\n",
        "import seaborn as sns\n",
        "\n",
        "sns.distplot(scoresG)\n",
        "plt.yticks([])\n",
        "plt.title(\"Acurácias do Naive Bayers Gaussian\")\n",
        "plt.show()"
      ],
      "execution_count": null,
      "outputs": [
        {
          "output_type": "stream",
          "text": [
            "Média do Naive Bayes Gaussian: 37.10%\n",
            "Desvio padrão do Naive Bayes Gaussian: 4.35%\n"
          ],
          "name": "stdout"
        },
        {
          "output_type": "stream",
          "text": [
            "/usr/local/lib/python3.6/dist-packages/seaborn/distributions.py:2551: FutureWarning: `distplot` is a deprecated function and will be removed in a future version. Please adapt your code to use either `displot` (a figure-level function with similar flexibility) or `histplot` (an axes-level function for histograms).\n",
            "  warnings.warn(msg, FutureWarning)\n"
          ],
          "name": "stderr"
        },
        {
          "output_type": "display_data",
          "data": {
            "image/png": "[encoded data removed]",
            "text/plain": [
              "<Figure size 432x288 with 1 Axes>"
            ]
          },
          "metadata": {
            "tags": []
          }
        }
      ]
    },
    {
      "cell_type": "code",
      "metadata": {
        "colab": {
          "background_save": true
        },
        "id": "R1O027vmgAu_",
        "outputId": "7e5d5a09-862e-4b4c-a437-bbe35fcc1bbe"
      },
      "source": [
        "print(\"Média do Naive Bayes Multinomial: {:.2f}%\".format(np.mean(scoresM)*100))\n",
        "print(\"Desvio padrão do Naive Bayes Multinomial: {:.2f}%\".format(np.std(scoresM)*100))\n",
        "\n",
        "sns.distplot(scoresM)\n",
        "plt.yticks([])\n",
        "plt.title(\"Acurácias do Naive Bayers Multinomial\")\n",
        "plt.show()"
      ],
      "execution_count": null,
      "outputs": [
        {
          "output_type": "stream",
          "text": [
            "Média do Naive Bayes Multinomial: 79.96%\n",
            "Desvio padrão do Naive Bayes Multinomial: 0.53%\n"
          ],
          "name": "stdout"
        },
        {
          "output_type": "stream",
          "text": [
            "/usr/local/lib/python3.6/dist-packages/seaborn/distributions.py:2551: FutureWarning: `distplot` is a deprecated function and will be removed in a future version. Please adapt your code to use either `displot` (a figure-level function with similar flexibility) or `histplot` (an axes-level function for histograms).\n",
            "  warnings.warn(msg, FutureWarning)\n"
          ],
          "name": "stderr"
        },
        {
          "output_type": "display_data",
          "data": {
            "image/png": "[encoded data removed]",
            "text/plain": [
              "<Figure size 432x288 with 1 Axes>"
            ]
          },
          "metadata": {
            "tags": []
          }
        }
      ]
    },
    {
      "cell_type": "code",
      "metadata": {
        "colab": {
          "background_save": true
        },
        "id": "sqpZ9E1rgC8n",
        "outputId": "ce8b0038-f66c-4e17-bc2c-eff867c41bd6"
      },
      "source": [
        "print(\"Média do Naive Bayes Bernoulli: {:.2f}%\".format(np.mean(scoresB)*100))\n",
        "print(\"Desvio padrão do Naive Bayes Bernoulli: {:.2f}%\".format(np.std(scoresB)*100))\n",
        "\n",
        "sns.distplot(scoresB)\n",
        "plt.yticks([])\n",
        "plt.title(\"Acurácias do Naive Bayers Bernoulli\")\n",
        "plt.show()"
      ],
      "execution_count": null,
      "outputs": [
        {
          "output_type": "stream",
          "text": [
            "Média do Naive Bayes Bernoulli: 89.10%\n",
            "Desvio padrão do Naive Bayes Bernoulli: 0.33%\n"
          ],
          "name": "stdout"
        },
        {
          "output_type": "stream",
          "text": [
            "/usr/local/lib/python3.6/dist-packages/seaborn/distributions.py:2551: FutureWarning: `distplot` is a deprecated function and will be removed in a future version. Please adapt your code to use either `displot` (a figure-level function with similar flexibility) or `histplot` (an axes-level function for histograms).\n",
            "  warnings.warn(msg, FutureWarning)\n"
          ],
          "name": "stderr"
        },
        {
          "output_type": "display_data",
          "data": {
            "image/png": "[encoded data removed]",
            "text/plain": [
              "<Figure size 432x288 with 1 Axes>"
            ]
          },
          "metadata": {
            "tags": []
          }
        }
      ]
    }
  ]
}